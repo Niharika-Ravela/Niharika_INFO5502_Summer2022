{
  "cells": [
    {
      "cell_type": "markdown",
      "metadata": {
        "id": "view-in-github",
        "colab_type": "text"
      },
      "source": [
        "<a href=\"https://colab.research.google.com/github/Niharika-Ravela/Niharika_INFO5502_Summer2022/blob/main/lab_assignment_01.ipynb\" target=\"_parent\"><img src=\"https://colab.research.google.com/assets/colab-badge.svg\" alt=\"Open In Colab\"/></a>"
      ]
    },
    {
      "cell_type": "markdown",
      "metadata": {
        "id": "DymRJbxDBCnf"
      },
      "source": [
        "# **The first Lab-assignment (07/15/2022 11:59'AM' to 7/19/2022 11:59PM, 50 points in total)**"
      ]
    },
    {
      "cell_type": "markdown",
      "metadata": {
        "id": "jJDe71iLB616"
      },
      "source": [
        "(1) Write a Python program to count the number of characters in a string. (6 points)\n",
        "\n",
        "Sample String : 'google.com', \n",
        "\n",
        "Expected Result : {'o': 3, 'g': 2, '.': 1, 'e': 1, 'l': 1, 'm': 1, 'c': 1}"
      ]
    },
    {
      "cell_type": "code",
      "execution_count": 1,
      "metadata": {
        "colab": {
          "base_uri": "https://localhost:8080/"
        },
        "id": "MtKskTzbCLaU",
        "outputId": "b0928078-8866-45af-f29b-ed1c15efe860"
      },
      "outputs": [
        {
          "output_type": "stream",
          "name": "stdout",
          "text": [
            "Enter the String: google.com\n",
            "{'o': 3, 'g': 2, 'l': 1, 'e': 1, '.': 1, 'c': 1, 'm': 1}\n"
          ]
        }
      ],
      "source": [
        "# write your answer here\n",
        "from collections import Counter\n",
        "from operator import itemgetter\n",
        "Str_var = input(\"Enter the String: \")\n",
        "output_dict = {}\n",
        "for i in Str_var:\n",
        "  if i in output_dict:\n",
        "    output_dict[i] += 1\n",
        "  else:\n",
        "    output_dict[i] = 1\n",
        "#print(output_dict)\n",
        "sort_dict= dict(sorted(output_dict.items(), key=itemgetter(1), reverse=True)) \n",
        "print(sort_dict)\n",
        "\n",
        "\n"
      ]
    },
    {
      "cell_type": "markdown",
      "metadata": {
        "id": "55W9AMdXCSpV"
      },
      "source": [
        "(2) Write a Python program to sum all the items in a list. (6 points)"
      ]
    },
    {
      "cell_type": "code",
      "execution_count": 2,
      "metadata": {
        "colab": {
          "base_uri": "https://localhost:8080/"
        },
        "id": "I57NXsauCec2",
        "outputId": "80604165-3805-4548-cdd9-6a0c8a984e30"
      },
      "outputs": [
        {
          "output_type": "stream",
          "name": "stdout",
          "text": [
            "Enter size of List: 4\n",
            "Enter the values of list:\n",
            "2\n",
            "3\n",
            "4\n",
            "5\n",
            "Sum of items in list:  14\n"
          ]
        }
      ],
      "source": [
        "# write your answer here\n",
        "list_size = int(input(\"Enter size of List: \")) #getting the size of the list dynamically.\n",
        "list_var = list() \n",
        "print(\"Enter the values of list:\")\n",
        "for i in range(0,list_size):\n",
        "  list_var.append(int(input())) #adding the items to the list.\n",
        "#print(list_var)\n",
        "sum = 0\n",
        "for i in range(0,list_size):\n",
        "  sum += list_var[i] #adding the elements of the list by iterating.\n",
        "print(\"Sum of items in list: \",sum)\n"
      ]
    },
    {
      "cell_type": "markdown",
      "metadata": {
        "id": "4ulBZ6yhCi9F"
      },
      "source": [
        "(3) Write a Python program to get a string from a given string where all occurrences of its first char have been changed to '\\$', except the first char itself. (6 points)\n",
        "\n",
        "Sample String : 'restart', \n",
        "\n",
        "Expected Result : 'resta\\$t'"
      ]
    },
    {
      "cell_type": "code",
      "execution_count": 10,
      "metadata": {
        "colab": {
          "base_uri": "https://localhost:8080/"
        },
        "id": "Fj0XhwbBCw2o",
        "outputId": "f8a7ca69-3b15-4df1-9706-ba978a52eef4"
      },
      "outputs": [
        {
          "output_type": "stream",
          "name": "stdout",
          "text": [
            "Enter the String value: restart\n",
            "resta$t\n"
          ]
        }
      ],
      "source": [
        "3# write your answer here\n",
        "stringvalue = input(\"Enter the String value: \")\n",
        "first_char = stringvalue[0]\n",
        "stringvalue = stringvalue.replace(first_char, '$')\n",
        "stringvalue = first_char + stringvalue[1:]\n",
        "\n",
        "print(stringvalue)"
      ]
    },
    {
      "cell_type": "markdown",
      "metadata": {
        "id": "_bIP7s1MCzue"
      },
      "source": [
        "(4) Write a program with python which could accept two parameter a and b to calculate and output the result of S, where \n",
        "\n",
        "$\\ S=3.14*(1+a/b)^3$ (6 points)\n",
        "\n"
      ]
    },
    {
      "cell_type": "code",
      "execution_count": 4,
      "metadata": {
        "colab": {
          "base_uri": "https://localhost:8080/"
        },
        "id": "w79QilHXD3Mg",
        "outputId": "cabcfada-a12a-4036-c5cb-855dfbfe40fa"
      },
      "outputs": [
        {
          "name": "stdout",
          "output_type": "stream",
          "text": [
            "Enter value for a: 3\n",
            "Enter value for b: 4\n"
          ]
        },
        {
          "output_type": "execute_result",
          "data": {
            "text/plain": [
              "3.7839233547551117"
            ]
          },
          "metadata": {},
          "execution_count": 4
        }
      ],
      "source": [
        "# write your answer here\n",
        "def calculate(a,b):\n",
        "  x = 1 + (a/b)\n",
        "  x1 = 3.14 * (x**(1/3))\n",
        "  return x1\n",
        "a = int(input(\"Enter value for a: \"))\n",
        "b = int(input(\"Enter value for b: \"))\n",
        "calculate(a,b)"
      ]
    },
    {
      "cell_type": "markdown",
      "metadata": {
        "id": "xCa2bK9aD4Q3"
      },
      "source": [
        "(5) Write a Python program to concatenate following dictionaries to create a new one. (6 points)\n",
        "\n",
        "Sample Dictionary : dic1={1:10, 2:20}, dic2={3:30, 4:40}, dic3={5:50,6:60}, \n",
        "\n",
        "Expected Result : {1: 10, 2: 20, 3: 30, 4: 40, 5: 50, 6: 60}\n"
      ]
    },
    {
      "cell_type": "code",
      "execution_count": 5,
      "metadata": {
        "colab": {
          "base_uri": "https://localhost:8080/"
        },
        "id": "_z4aLqAbEET1",
        "outputId": "6ff89d06-9e61-43d3-d4c8-c7e1bd99da2e"
      },
      "outputs": [
        {
          "output_type": "stream",
          "name": "stdout",
          "text": [
            "{1: 10, 2: 20, 3: 30, 4: 40, 5: 50, 6: 60}\n"
          ]
        }
      ],
      "source": [
        "# write your answer here\n",
        "dic1 = {1:10,2:20}\n",
        "dic2 = {3:30,4:40}\n",
        "dic3 = {5:50,6:60}\n",
        "\n",
        "concatenated_dict = {}\n",
        "\n",
        "for i in (dic1,dic2,dic3):\n",
        "  concatenated_dict.update(i)\n",
        "print(concatenated_dict)"
      ]
    },
    {
      "cell_type": "markdown",
      "metadata": {
        "id": "0v48Vqa7FrQh"
      },
      "source": [
        "(6) Write a Python program to check whether an element exists within a tuple. (6 points)"
      ]
    },
    {
      "cell_type": "code",
      "execution_count": 6,
      "metadata": {
        "colab": {
          "base_uri": "https://localhost:8080/"
        },
        "id": "7WEmgq-DF2P1",
        "outputId": "d78a4ae8-98cf-4946-8850-4929676c3115"
      },
      "outputs": [
        {
          "output_type": "stream",
          "name": "stdout",
          "text": [
            "Enter the size of the tuple: 4\n",
            "2\n",
            "3\n",
            "neha\n",
            "till\n",
            "Enter the element to check in tuple: neha\n",
            "It exists\n"
          ]
        }
      ],
      "source": [
        "# write your answer here\n",
        "tuple_size = int(input(\"Enter the size of the tuple: \"))\n",
        "list_var = []\n",
        "for i in range(0,tuple_size):\n",
        "  list_var.append(input())\n",
        "tuple_var = tuple(list_var) \n",
        "#print(tuple_var)\n",
        "check_element = input(\"Enter the element to check in tuple: \")\n",
        "if check_element in tuple_var:\n",
        "  print(\"It exists\")\n",
        "else:\n",
        "  print(\"Does not exist\")"
      ]
    },
    {
      "cell_type": "markdown",
      "metadata": {
        "id": "vD5PYLMuGga_"
      },
      "source": [
        "(7) Write a Python program to find maximum and the minimum value in a set. (6 points)"
      ]
    },
    {
      "cell_type": "code",
      "execution_count": 9,
      "metadata": {
        "colab": {
          "base_uri": "https://localhost:8080/"
        },
        "id": "t0D5kdJUGjjw",
        "outputId": "78e0b155-82a6-4a5e-89cd-d78687045131"
      },
      "outputs": [
        {
          "output_type": "stream",
          "name": "stdout",
          "text": [
            "Enter the size of the set: 3\n",
            "Enter the value for the set: 2\n",
            "Enter the value for the set: 4\n",
            "Enter the value for the set: 8\n",
            "Minimum Value:  2  Maximum Value:  8\n"
          ]
        }
      ],
      "source": [
        "# write your answer here\n",
        "def minmax(set_val):\n",
        "  min_value = min(set_val)\n",
        "  max_value = max(set_val)\n",
        "  print(\"Minimum Value: \",min_value,\" Maximum Value: \", max_value)\n",
        "\n",
        "set_size = int(input(\"Enter the size of the set: \"))\n",
        "set_list = set()\n",
        "for i in range(0,set_size):\n",
        "  set_list.add(input('Enter the value for the set: '))\n",
        "#print(set_list)\n",
        "\n",
        "minmax(set_list)"
      ]
    },
    {
      "cell_type": "markdown",
      "metadata": {
        "id": "ggTuU9MpoKPw"
      },
      "source": [
        "(8) Write a Python program to find the duplicate elements in a given array of integers. Return -1 If there are no such elements. (8 points)"
      ]
    },
    {
      "cell_type": "code",
      "execution_count": 8,
      "metadata": {
        "colab": {
          "base_uri": "https://localhost:8080/"
        },
        "id": "PZbu706WoKPw",
        "outputId": "2593c274-1e94-4ca2-fc97-38963dadfa18"
      },
      "outputs": [
        {
          "output_type": "stream",
          "name": "stdout",
          "text": [
            "Enter the size of the array: 4\n",
            "Enter the values in array:\n",
            "4\n",
            "2\n",
            "3\n",
            "2\n",
            "Duplicates :  ['2']\n"
          ]
        }
      ],
      "source": [
        "# write your answer here\n",
        "array_size = int(input(\"Enter the size of the array: \"))\n",
        "array_var = []\n",
        "print(\"Enter the values in array:\")\n",
        "for i in range(0,array_size):\n",
        "  array_var.append(input())\n",
        "#print(array_var)\n",
        "def duplicate_funt(array_var):\n",
        "  duplicates_list = []\n",
        "  unique_values = []\n",
        "  for i in array_var:\n",
        "    if i in unique_values:\n",
        "      duplicates_list.append(i)\n",
        "    else:\n",
        "      unique_values.append(i)\n",
        "  if len(duplicates_list) != 0:\n",
        "    print(\"Duplicates : \",duplicates_list)\n",
        "  else:\n",
        "    return -1\n",
        "\n",
        "duplicate_funt(array_var)\n",
        "    "
      ]
    }
  ],
  "metadata": {
    "colab": {
      "collapsed_sections": [],
      "name": "lab_assignment_01.ipynb",
      "provenance": [],
      "include_colab_link": true
    },
    "kernelspec": {
      "display_name": "Python 3 (ipykernel)",
      "language": "python",
      "name": "python3"
    },
    "language_info": {
      "codemirror_mode": {
        "name": "ipython",
        "version": 3
      },
      "file_extension": ".py",
      "mimetype": "text/x-python",
      "name": "python",
      "nbconvert_exporter": "python",
      "pygments_lexer": "ipython3",
      "version": "3.9.12"
    },
    "vscode": {
      "interpreter": {
        "hash": "5c6a7f839effdddf35473dacbb9a8184e57ebbba5133cab03b12e4f28d4f0d0f"
      }
    }
  },
  "nbformat": 4,
  "nbformat_minor": 0
}