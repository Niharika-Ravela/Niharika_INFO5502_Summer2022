{
  "cells": [
    {
      "cell_type": "markdown",
      "metadata": {
        "id": "view-in-github",
        "colab_type": "text"
      },
      "source": [
        "<a href=\"https://colab.research.google.com/github/Niharika-Ravela/Niharika_INFO5502_Summer2022/blob/main/lab_assignment_08_1.ipynb\" target=\"_parent\"><img src=\"https://colab.research.google.com/assets/colab-badge.svg\" alt=\"Open In Colab\"/></a>"
      ]
    },
    {
      "cell_type": "markdown",
      "metadata": {
        "id": "euNIZPS6Y-yK"
      },
      "source": [
        "## The Eighth Lab-assignment (08/09/2022 11:59'AM' - 08/12/2022 11:59PM, 50 points in total)"
      ]
    },
    {
      "cell_type": "markdown",
      "metadata": {
        "id": "zwZ5KULqY-yM"
      },
      "source": [
        "The purpose of this assignment is to practice different Hypothesis Testing and annotation quality evaluation."
      ]
    },
    {
      "cell_type": "markdown",
      "metadata": {
        "id": "hUQGDO67Y-yM"
      },
      "source": [
        "### Question 1 (10 points) \n",
        "\n",
        "During the 1980s, the general consensus is that about 5% of the nation’s children had autism. Some claimed that increases certain chemicals in the environment has led to an increase in autism. \n",
        "\n",
        "(1) Write an appropriate hypothesis test for this situation (5 points).  \n",
        "\n",
        "(2) Give an appropriate test for this hypothesis, stating what are the necessary conditions for performing the test (5 points). \n",
        "\n",
        "(3) A recent study examined 384 children and found that 46 showed signs of autism. Perform a test of the hypothesis and state the p-value (5 points). "
      ]
    },
    {
      "cell_type": "code",
      "execution_count": 1,
      "metadata": {
        "id": "6dhi7KY6Y-yW",
        "colab": {
          "base_uri": "https://localhost:8080/",
          "height": 123
        },
        "outputId": "d31b6bd8-cb7b-4322-e624-cc0e355faeb3"
      },
      "outputs": [
        {
          "output_type": "execute_result",
          "data": {
            "text/plain": [
              "\"\\n1. For an Hypothesis testing if the sample is different from that of the population analysis then we say we have enough evidence that the treatement has an affect.\\n   So the appropriate hypothesis test for this case can be:\\n   Null Hypothesis(H0) - p = 0.05; That is 5 percent of the people are suffering from autism of the total population.\\n   Alternative Hypothesis(H1) - p > 0.05; More than 5 percent of the people are having autism.\\n   And if p is less than 0.05 then the null hypothesis can be rejected.\\n\\n2. I feel that Z-test can be a good choice in this situation. Since the samples are greater than 30 and we can get the mean and the standard deviation we satisfy all\\n   the requirements of the test.\\n   To perform the test we have some conditions:\\n   - First, State the null hypothesis the H0 which can be the mean of the population.\\n   - Then , state the alternative hypothesis, H1. It is the one one that we observe from the sample.\\n   - Later, choose a critical value (alpha) that helps in making a decision whether to reject or keep the null hypothesis. Usually we use a p value of 5%.\\n   - Use the z-test statistic using the sample mean, population mean, the number of data points in the sample,n and the population's standard deviation: \\n    z = (mean(sample) - mean(population))/[Std(population)/Sqrt(n)]\\n   - If the test statistic is greater than critical value then alternative hypothesis is true\\n    because the sample's mean is statistically significant from the population mean.\\n\\n3. p-value = 0.05\\n   sample mean = 46/384\\n   Number of samples = 384\\n   In the below cell we are performing the Z-test.\\n\\n\""
            ],
            "application/vnd.google.colaboratory.intrinsic+json": {
              "type": "string"
            }
          },
          "metadata": {},
          "execution_count": 1
        }
      ],
      "source": [
        "# You answer here\n",
        "'''\n",
        "1. For an Hypothesis testing if the sample is different from that of the population analysis then we say we have enough evidence that the treatement has an affect.\n",
        "   So the appropriate hypothesis test for this case can be:\n",
        "   Null Hypothesis(H0) - p = 0.05; That is 5 percent of the people are suffering from autism of the total population.\n",
        "   Alternative Hypothesis(H1) - p > 0.05; More than 5 percent of the people are having autism.\n",
        "   And if p is less than 0.05 then the null hypothesis can be rejected.\n",
        "\n",
        "2. I feel that Z-test can be a good choice in this situation. Since the samples are greater than 30 and we can get the mean and the standard deviation we satisfy all\n",
        "   the requirements of the test.\n",
        "   To perform the test we have some conditions:\n",
        "   - First, State the null hypothesis the H0 which can be the mean of the population.\n",
        "   - Then , state the alternative hypothesis, H1. It is the one one that we observe from the sample.\n",
        "   - Later, choose a critical value (alpha) that helps in making a decision whether to reject or keep the null hypothesis. Usually we use a p value of 5%.\n",
        "   - Use the z-test statistic using the sample mean, population mean, the number of data points in the sample,n and the population's standard deviation: \n",
        "    z = (mean(sample) - mean(population))/[Std(population)/Sqrt(n)]\n",
        "   - If the test statistic is greater than critical value then alternative hypothesis is true\n",
        "    because the sample's mean is statistically significant from the population mean.\n",
        "\n",
        "3. p-value = 0.05\n",
        "   sample mean = 46/384\n",
        "   Number of samples = 384\n",
        "   In the below cell we are performing the Z-test.\n",
        "\n",
        "'''"
      ]
    },
    {
      "cell_type": "code",
      "execution_count": 2,
      "metadata": {
        "id": "wjVHMC2cY-yX",
        "colab": {
          "base_uri": "https://localhost:8080/"
        },
        "outputId": "73adb900-7dee-47a6-d6e0-90ff9d3f80ca"
      },
      "outputs": [
        {
          "output_type": "stream",
          "name": "stdout",
          "text": [
            "P-value: 0.05\n",
            "Z test value : 6.27512493759735\n"
          ]
        }
      ],
      "source": [
        "# your code here\n",
        "import math\n",
        "\n",
        "p = 0.05\n",
        "n = 384\n",
        "sample_mean = 46/384\n",
        "\n",
        "print(\"P-value:\", p)\n",
        "var1 = (sample_mean - p)\n",
        "var2 = p * (1 - p) / n\n",
        "z = var1 / math.sqrt(var2)\n",
        "print(\"Z test value :\",z)\n",
        "\n",
        "# The Z - value is greater than 1.96 for the 0.05 level of significance So the null hypothesis is rejected.\n"
      ]
    },
    {
      "cell_type": "markdown",
      "metadata": {
        "id": "oTMs2ffYY-yX"
      },
      "source": [
        "### Question 2 (10 points) \n",
        "In this problem,we will examine the sugar content of several national brands of cereals, here measured as a percentage of weight.\n",
        "\n",
        "![assignmen_9.png](attachment:assignmen_9.png)\n",
        "\n",
        "(1) Give a summary of these two datasets (5 points). \n",
        "\n",
        "(2) Create side-by-side boxplots and interpret what you see (5 points). \n",
        "\n",
        "(3) Use python to create a 95% confidence interval for the difference in mean sugar content and explain your result (5 points). "
      ]
    },
    {
      "cell_type": "code",
      "execution_count": 3,
      "metadata": {
        "id": "tqRxoQIVY-yY",
        "colab": {
          "base_uri": "https://localhost:8080/",
          "height": 70
        },
        "outputId": "f3cbc3ea-d8fb-44ee-bd2c-e966eb92b390"
      },
      "outputs": [
        {
          "output_type": "execute_result",
          "data": {
            "text/plain": [
              "'\\nThe summary of the two data sets\\nMean of the children dataset : 46.8\\nMedian of the children dataset : 45.9\\nMinimum value of the children dataset : 33.6\\nMaximum value of the children dataset : 60.3\\nvariance of the children dataset : 41.19555555555555\\n\\nMean of the adult dataset : 10.168965517241379\\nMedian of the adult dataset : 8.1\\nMinimum value of the adult dataset : 1.0\\nMaximum value of the adult dataset : 30.2\\nThe variance of the adult dataset : 55.8857881773399\\n'"
            ],
            "application/vnd.google.colaboratory.intrinsic+json": {
              "type": "string"
            }
          },
          "metadata": {},
          "execution_count": 3
        }
      ],
      "source": [
        "# You answer here\n",
        "'''\n",
        "The summary of the two data sets\n",
        "Mean of the children dataset : 46.8\n",
        "Median of the children dataset : 45.9\n",
        "Minimum value of the children dataset : 33.6\n",
        "Maximum value of the children dataset : 60.3\n",
        "variance of the children dataset : 41.19555555555555\n",
        "\n",
        "Mean of the adult dataset : 10.168965517241379\n",
        "Median of the adult dataset : 8.1\n",
        "Minimum value of the adult dataset : 1.0\n",
        "Maximum value of the adult dataset : 30.2\n",
        "The variance of the adult dataset : 55.8857881773399\n",
        "'''"
      ]
    },
    {
      "cell_type": "code",
      "execution_count": 4,
      "metadata": {
        "id": "GqSq3b0jY-yY",
        "colab": {
          "base_uri": "https://localhost:8080/"
        },
        "outputId": "1f86e2ec-383b-4b14-9df3-221c0bbaa281"
      },
      "outputs": [
        {
          "output_type": "stream",
          "name": "stdout",
          "text": [
            "Summary for Children\n",
            "Mean: 46.8\n",
            "Median: 45.9\n",
            "Minimum value: 33.6\n",
            "Maximum value: 60.3\n",
            "variance: 41.19555555555555\n",
            "               0\n",
            "count  19.000000\n",
            "mean   46.800000\n",
            "std     6.418376\n",
            "min    33.600000\n",
            "25%    43.650000\n",
            "50%    45.900000\n",
            "75%    50.350000\n",
            "max    60.300000\n",
            "\n",
            "\n",
            "Summary For Adults\n",
            "Mean : 10.153571428571428\n",
            "Median : 7.949999999999999\n",
            "Minimum value : 1.0\n",
            "Maximum value : 30.2\n",
            "The variance : 57.94850529100529\n",
            "               0\n",
            "count  28.000000\n",
            "mean   10.153571\n",
            "std     7.612392\n",
            "min     1.000000\n",
            "25%     4.100000\n",
            "50%     7.950000\n",
            "75%    15.900000\n",
            "max    30.200000\n",
            "\n",
            "\n"
          ]
        }
      ],
      "source": [
        "# your code here\n",
        "# 1.Give a summary of these two datasets\n",
        "import statistics\n",
        "import pandas as pd\n",
        "\n",
        "\n",
        "\n",
        "Children = [40.3, 55.0, 45.7, 43.3, 50.3, 45.9, 53.5, 43.0, 44.2, 44.0, 33.6, 55.1, 48.8, 50.4, 37.8, 60.3, 46.6, 47.4, 44.0]\n",
        "Adult = [20.0, 30.2, 2.2, 7.5, 4.4, 22.2, 16.6, 14.5, 21.4, 3.3, 10.0, 1.0, 4.4, 1.3, 8.1, 6.6, 7.8, 10.6, 16.2, 14.5, 4.1, 15.8, 4.1, 2.4, 3.5, 8.5, 4.7, 18.4]\n",
        "\n",
        "mean = statistics.mean(Children)\n",
        "median = statistics.median(Children)\n",
        "min_child = min(Children)\n",
        "max_child = max(Children)\n",
        "var_child = statistics.variance(Children)\n",
        "df1 = pd.DataFrame(Children)\n",
        "df2 = pd.DataFrame(Adult)\n",
        "\n",
        "print(\"Summary for Children\")\n",
        "print(\"Mean:\", mean)\n",
        "print(\"Median:\", median)\n",
        "print(\"Minimum value:\", min_child)\n",
        "print(\"Maximum value:\", max_child)\n",
        "print(\"variance:\", var_child)\n",
        "print(df1.describe())\n",
        "print(\"\\n\")\n",
        "\n",
        "print(\"Summary For Adults\")\n",
        "mean = statistics.mean(Adult)\n",
        "median = statistics.median(Adult)\n",
        "min_adult = min(Adult)\n",
        "max_adult = max(Adult)\n",
        "var_adult = statistics.variance(Adult)\n",
        "print(\"Mean :\", mean)\n",
        "print(\"Median :\", median)\n",
        "print(\"Minimum value :\", min_adult)\n",
        "print(\"Maximum value :\", max_adult)\n",
        "print(\"The variance :\", var_adult)\n",
        "print(df2.describe())\n",
        "print(\"\\n\")\n",
        "\n",
        "\n",
        "\n"
      ]
    },
    {
      "cell_type": "code",
      "source": [
        "# 2.Create side-by-side boxplots and interpret what you see\n",
        "import matplotlib.pyplot as plt\n",
        "import numpy as np\n",
        "\n",
        "plt.boxplot ([Children,Adult])\n",
        "\n",
        "plt.show()\n",
        "\n",
        "# It is clear that the sugar intake is much higher in Children compare to the Adults."
      ],
      "metadata": {
        "colab": {
          "base_uri": "https://localhost:8080/",
          "height": 320
        },
        "id": "-kS4bwaZusIv",
        "outputId": "741d42f2-a31b-41e3-ece2-b39f71abb938"
      },
      "execution_count": 5,
      "outputs": [
        {
          "output_type": "stream",
          "name": "stderr",
          "text": [
            "/usr/local/lib/python3.7/dist-packages/matplotlib/cbook/__init__.py:1376: VisibleDeprecationWarning: Creating an ndarray from ragged nested sequences (which is a list-or-tuple of lists-or-tuples-or ndarrays with different lengths or shapes) is deprecated. If you meant to do this, you must specify 'dtype=object' when creating the ndarray.\n",
            "  X = np.atleast_1d(X.T if isinstance(X, np.ndarray) else np.asarray(X))\n"
          ]
        },
        {
          "output_type": "display_data",
          "data": {
            "text/plain": [
              "<Figure size 432x288 with 1 Axes>"
            ],
            "image/png": "[encoded data removed]"
          },
          "metadata": {
            "needs_background": "light"
          }
        }
      ]
    },
    {
      "cell_type": "code",
      "source": [
        "# 3. Use python to create a 95% confidence interval for the difference in mean sugar content and explain your result\n",
        "mean_difference = np.mean(Children) - np.mean(Adult)\n",
        "z_score = 1.96 \n",
        "\n",
        "child = (np.std(Children)*np.std(Children)/len(Children))\n",
        "adult = (np.std(Adult)*np.std(Adult)/len(Adult))\n",
        "\n",
        "error = z_score * (math.sqrt(child+adult))\n",
        "print('Confidence Interval for the difference in mean suger content: ')\n",
        "print('( ',(mean_difference + error),',',(mean_difference - error),')')\n"
      ],
      "metadata": {
        "colab": {
          "base_uri": "https://localhost:8080/"
        },
        "id": "yiasayqvvRrm",
        "outputId": "62bcc11a-bc33-4bcf-a8d9-e1d6c837a9ad"
      },
      "execution_count": 6,
      "outputs": [
        {
          "output_type": "stream",
          "name": "stdout",
          "text": [
            "Confidence Interval for the difference in mean suger content: \n",
            "(  40.5907295653098 , 32.70212757754736 )\n"
          ]
        }
      ]
    },
    {
      "cell_type": "markdown",
      "metadata": {
        "id": "YBmjG3TcY-yY"
      },
      "source": [
        "### Question 3 (30 points) \n",
        "\n",
        "Cohen's kappa coefficient (κ) is a statistic that is used to measure inter-rater reliability (and also intra-rater reliability) for qualitative (categorical) items. It is generally thought to be a more robust measure than simple percent agreement calculation, as κ takes into account the possibility of the agreement occurring by chance. There is controversy surrounding Cohen's kappa due to the difficulty in interpreting indices of agreement. Some researchers have suggested that it is conceptually simpler to evaluate disagreement between items.\n",
        "\n",
        "A more detailed description of Kappa agreement can be found on wikipedia: https://en.wikipedia.org/wiki/Cohen%27s_kappa\n",
        "\n",
        "Here is the dataset we created for a text classification task: https://github.com/suthapalliuday/INFO5502-Summer2022/blob/main/datasets/lab08-dataset.csv\n",
        "\n",
        "The last three columns indicate the annotation on the same sentence by three students respectively. Based on this dataset, please calculate the Cohen's kappa and the Fleiss' kappa using their formulars (Python). Please don't use any existing packages for the implementation. "
      ]
    },
    {
      "cell_type": "code",
      "execution_count": 7,
      "metadata": {
        "id": "MImHi5QbY-yZ",
        "colab": {
          "base_uri": "https://localhost:8080/"
        },
        "outputId": "1af90ac8-fe12-48a3-9d4c-d2eaaeda1a23"
      },
      "outputs": [
        {
          "output_type": "stream",
          "name": "stdout",
          "text": [
            "Looking in indexes: https://pypi.org/simple, https://us-python.pkg.dev/colab-wheels/public/simple/\n",
            "Requirement already satisfied: krippendorff in /usr/local/lib/python3.7/dist-packages (0.5.1)\n",
            "Requirement already satisfied: numpy in /usr/local/lib/python3.7/dist-packages (from krippendorff) (1.21.6)\n"
          ]
        }
      ],
      "source": [
        "# your code here\n",
        "# https://raw.githubusercontent.com/suthapalliuday/INFO5502-Summer2022/main/datasets/lab08-dataset.csv\n",
        "\n",
        "!pip install krippendorff\n"
      ]
    },
    {
      "cell_type": "code",
      "source": [
        "import pandas as pd\n",
        "import numpy as np\n",
        "from sklearn.preprocessing import LabelEncoder\n",
        "\n",
        "df = pd.read_csv(\"https://raw.githubusercontent.com/suthapalliuday/INFO5502-Summer2022/main/datasets/lab08-dataset.csv\")\n",
        "df.head()"
      ],
      "metadata": {
        "colab": {
          "base_uri": "https://localhost:8080/",
          "height": 337
        },
        "id": "7208BSE4yVfn",
        "outputId": "3c40a41e-1138-4835-ccb2-8755373c3686"
      },
      "execution_count": 8,
      "outputs": [
        {
          "output_type": "execute_result",
          "data": {
            "text/plain": [
              "                                    Title of Article  \\\n",
              "0  The measurement of ÒinterdisciplinarityÓ and Ò...   \n",
              "1  Innovation adoption: Broadcasting versus virality   \n",
              "2  Discovering underlying sensations of human emo...   \n",
              "3  Discovering underlying sensations of human emo...   \n",
              "4  Discovering underlying sensations of human emo...   \n",
              "\n",
              "                                       Contributions  Source  \\\n",
              "0  In this study, we discuss recent advances in t...  JASIST   \n",
              "1  broadcasting and virality have similar diffusi...  JASIST   \n",
              "2  we report the results of our study on sensatio...  JASIST   \n",
              "3  in the second part of the paper, we define nov...  JASIST   \n",
              "4  we design a method to classify texts into ones...  JASIST   \n",
              "\n",
              "                                        Annotation1  \\\n",
              "0  Algorithms/ Methods Construction or Optimization   \n",
              "1                                 Theory proposal\\n   \n",
              "2                                 Theory proposal\\n   \n",
              "3                                 Theory proposal\\n   \n",
              "4  Algorithms/ Methods Construction or Optimization   \n",
              "\n",
              "                                        Annotation2  \\\n",
              "0  Algorithms/ Methods Construction or Optimization   \n",
              "1                                 Theory proposal\\n   \n",
              "2  Algorithms/ Methods Construction or Optimization   \n",
              "3                                 Theory proposal\\n   \n",
              "4                Model Construction or Optimization   \n",
              "\n",
              "                                        Annotation3  Year  \n",
              "0  Algorithms/ Methods Construction or Optimization   NaN  \n",
              "1                                 Theory proposal\\n   NaN  \n",
              "2                                 Theory proposal\\n   NaN  \n",
              "3                                 Theory proposal\\n   NaN  \n",
              "4  Algorithms/ Methods Construction or Optimization   NaN  "
            ],
            "text/html": [
              "\n",
              "  <div id=\"df-358eca29-0eca-4694-aed8-7bbb61fdfcaa\">\n",
              "    <div class=\"colab-df-container\">\n",
              "      <div>\n",
              "<style scoped>\n",
              "    .dataframe tbody tr th:only-of-type {\n",
              "        vertical-align: middle;\n",
              "    }\n",
              "\n",
              "    .dataframe tbody tr th {\n",
              "        vertical-align: top;\n",
              "    }\n",
              "\n",
              "    .dataframe thead th {\n",
              "        text-align: right;\n",
              "    }\n",
              "</style>\n",
              "<table border=\"1\" class=\"dataframe\">\n",
              "  <thead>\n",
              "    <tr style=\"text-align: right;\">\n",
              "      <th></th>\n",
              "      <th>Title of Article</th>\n",
              "      <th>Contributions</th>\n",
              "      <th>Source</th>\n",
              "      <th>Annotation1</th>\n",
              "      <th>Annotation2</th>\n",
              "      <th>Annotation3</th>\n",
              "      <th>Year</th>\n",
              "    </tr>\n",
              "  </thead>\n",
              "  <tbody>\n",
              "    <tr>\n",
              "      <th>0</th>\n",
              "      <td>The measurement of ÒinterdisciplinarityÓ and Ò...</td>\n",
              "      <td>In this study, we discuss recent advances in t...</td>\n",
              "      <td>JASIST</td>\n",
              "      <td>Algorithms/ Methods Construction or Optimization</td>\n",
              "      <td>Algorithms/ Methods Construction or Optimization</td>\n",
              "      <td>Algorithms/ Methods Construction or Optimization</td>\n",
              "      <td>NaN</td>\n",
              "    </tr>\n",
              "    <tr>\n",
              "      <th>1</th>\n",
              "      <td>Innovation adoption: Broadcasting versus virality</td>\n",
              "      <td>broadcasting and virality have similar diffusi...</td>\n",
              "      <td>JASIST</td>\n",
              "      <td>Theory proposal\\n</td>\n",
              "      <td>Theory proposal\\n</td>\n",
              "      <td>Theory proposal\\n</td>\n",
              "      <td>NaN</td>\n",
              "    </tr>\n",
              "    <tr>\n",
              "      <th>2</th>\n",
              "      <td>Discovering underlying sensations of human emo...</td>\n",
              "      <td>we report the results of our study on sensatio...</td>\n",
              "      <td>JASIST</td>\n",
              "      <td>Theory proposal\\n</td>\n",
              "      <td>Algorithms/ Methods Construction or Optimization</td>\n",
              "      <td>Theory proposal\\n</td>\n",
              "      <td>NaN</td>\n",
              "    </tr>\n",
              "    <tr>\n",
              "      <th>3</th>\n",
              "      <td>Discovering underlying sensations of human emo...</td>\n",
              "      <td>in the second part of the paper, we define nov...</td>\n",
              "      <td>JASIST</td>\n",
              "      <td>Theory proposal\\n</td>\n",
              "      <td>Theory proposal\\n</td>\n",
              "      <td>Theory proposal\\n</td>\n",
              "      <td>NaN</td>\n",
              "    </tr>\n",
              "    <tr>\n",
              "      <th>4</th>\n",
              "      <td>Discovering underlying sensations of human emo...</td>\n",
              "      <td>we design a method to classify texts into ones...</td>\n",
              "      <td>JASIST</td>\n",
              "      <td>Algorithms/ Methods Construction or Optimization</td>\n",
              "      <td>Model Construction or Optimization</td>\n",
              "      <td>Algorithms/ Methods Construction or Optimization</td>\n",
              "      <td>NaN</td>\n",
              "    </tr>\n",
              "  </tbody>\n",
              "</table>\n",
              "</div>\n",
              "      <button class=\"colab-df-convert\" onclick=\"convertToInteractive('df-358eca29-0eca-4694-aed8-7bbb61fdfcaa')\"\n",
              "              title=\"Convert this dataframe to an interactive table.\"\n",
              "              style=\"display:none;\">\n",
              "        \n",
              "  <svg xmlns=\"http://www.w3.org/2000/svg\" height=\"24px\"viewBox=\"0 0 24 24\"\n",
              "       width=\"24px\">\n",
              "    <path d=\"M0 0h24v24H0V0z\" fill=\"none\"/>\n",
              "    <path d=\"M18.56 5.44l.94 2.06.94-2.06 2.06-.94-2.06-.94-.94-2.06-.94 2.06-2.06.94zm-11 1L8.5 8.5l.94-2.06 2.06-.94-2.06-.94L8.5 2.5l-.94 2.06-2.06.94zm10 10l.94 2.06.94-2.06 2.06-.94-2.06-.94-.94-2.06-.94 2.06-2.06.94z\"/><path d=\"M17.41 7.96l-1.37-1.37c-.4-.4-.92-.59-1.43-.59-.52 0-1.04.2-1.43.59L10.3 9.45l-7.72 7.72c-.78.78-.78 2.05 0 2.83L4 21.41c.39.39.9.59 1.41.59.51 0 1.02-.2 1.41-.59l7.78-7.78 2.81-2.81c.8-.78.8-2.07 0-2.86zM5.41 20L4 18.59l7.72-7.72 1.47 1.35L5.41 20z\"/>\n",
              "  </svg>\n",
              "      </button>\n",
              "      \n",
              "  <style>\n",
              "    .colab-df-container {\n",
              "      display:flex;\n",
              "      flex-wrap:wrap;\n",
              "      gap: 12px;\n",
              "    }\n",
              "\n",
              "    .colab-df-convert {\n",
              "      background-color: #E8F0FE;\n",
              "      border: none;\n",
              "      border-radius: 50%;\n",
              "      cursor: pointer;\n",
              "      display: none;\n",
              "      fill: #1967D2;\n",
              "      height: 32px;\n",
              "      padding: 0 0 0 0;\n",
              "      width: 32px;\n",
              "    }\n",
              "\n",
              "    .colab-df-convert:hover {\n",
              "      background-color: #E2EBFA;\n",
              "      box-shadow: 0px 1px 2px rgba(60, 64, 67, 0.3), 0px 1px 3px 1px rgba(60, 64, 67, 0.15);\n",
              "      fill: #174EA6;\n",
              "    }\n",
              "\n",
              "    [theme=dark] .colab-df-convert {\n",
              "      background-color: #3B4455;\n",
              "      fill: #D2E3FC;\n",
              "    }\n",
              "\n",
              "    [theme=dark] .colab-df-convert:hover {\n",
              "      background-color: #434B5C;\n",
              "      box-shadow: 0px 1px 3px 1px rgba(0, 0, 0, 0.15);\n",
              "      filter: drop-shadow(0px 1px 2px rgba(0, 0, 0, 0.3));\n",
              "      fill: #FFFFFF;\n",
              "    }\n",
              "  </style>\n",
              "\n",
              "      <script>\n",
              "        const buttonEl =\n",
              "          document.querySelector('#df-358eca29-0eca-4694-aed8-7bbb61fdfcaa button.colab-df-convert');\n",
              "        buttonEl.style.display =\n",
              "          google.colab.kernel.accessAllowed ? 'block' : 'none';\n",
              "\n",
              "        async function convertToInteractive(key) {\n",
              "          const element = document.querySelector('#df-358eca29-0eca-4694-aed8-7bbb61fdfcaa');\n",
              "          const dataTable =\n",
              "            await google.colab.kernel.invokeFunction('convertToInteractive',\n",
              "                                                     [key], {});\n",
              "          if (!dataTable) return;\n",
              "\n",
              "          const docLinkHtml = 'Like what you see? Visit the ' +\n",
              "            '<a target=\"_blank\" href=https://colab.research.google.com/notebooks/data_table.ipynb>data table notebook</a>'\n",
              "            + ' to learn more about interactive tables.';\n",
              "          element.innerHTML = '';\n",
              "          dataTable['output_type'] = 'display_data';\n",
              "          await google.colab.output.renderOutput(dataTable, element);\n",
              "          const docLink = document.createElement('div');\n",
              "          docLink.innerHTML = docLinkHtml;\n",
              "          element.appendChild(docLink);\n",
              "        }\n",
              "      </script>\n",
              "    </div>\n",
              "  </div>\n",
              "  "
            ]
          },
          "metadata": {},
          "execution_count": 8
        }
      ]
    },
    {
      "cell_type": "code",
      "source": [
        "encoder = LabelEncoder()\n",
        "encoder.fit(df['Annotation1'])\n",
        "\n",
        "df['encoder_Annotation1'] = encoder.transform(df['Annotation1'])\n",
        "df['encoder_Annotation2'] = encoder.transform(df['Annotation2'])\n",
        "df['encoder_Annotation3'] = encoder.transform(df['Annotation3'])\n",
        "df['Annotation1'].value_counts()"
      ],
      "metadata": {
        "colab": {
          "base_uri": "https://localhost:8080/"
        },
        "id": "SyaM-ZZPydHo",
        "outputId": "3a468283-8496-4e19-904a-2f01967e57dc"
      },
      "execution_count": 9,
      "outputs": [
        {
          "output_type": "execute_result",
          "data": {
            "text/plain": [
              "Theory proposal\\n                                   1323\n",
              "Algorithms/ Methods Construction or Optimization     579\n",
              "Model Construction or Optimization                   555\n",
              "Performance Evaluation                               474\n",
              "Resources                                            245\n",
              "Applications                                         119\n",
              "Dataset creation                                     102\n",
              " \"Theory proposal\\n\"                                   1\n",
              "Name: Annotation1, dtype: int64"
            ]
          },
          "metadata": {},
          "execution_count": 9
        }
      ]
    },
    {
      "cell_type": "code",
      "source": [
        "from sklearn.metrics import cohen_kappa_score\n",
        "\n",
        "s_1 = cohen_kappa_score(list(df['encoder_Annotation1'].values), list(df['encoder_Annotation2'].values))\n",
        "s_2 = cohen_kappa_score(list(df['encoder_Annotation2'].values), list(df['encoder_Annotation3'].values))\n",
        "s_3 = cohen_kappa_score(list(df['encoder_Annotation1'].values), list(df['encoder_Annotation3'].values))\n",
        "\n",
        "avg_kappa_score = (s_1 + s_2 + s_3)/3\n",
        "print(\"Cohen's kappa score is:\", round(avg_kappa_score, 2))\n",
        "\n",
        "if avg_kappa_score < 0.0:\n",
        "    print(\"Less than chance agreement\")\n",
        "\n",
        "elif ((avg_kappa_score >= 0.01) & (avg_kappa_score <= 0.20)):\n",
        "    print(\"Slight agreement\")\n",
        "\n",
        "elif ((avg_kappa_score >= 0.21) and (avg_kappa_score <= 0.40)):\n",
        "    print(\"Fair agreement\")\n",
        "\n",
        "elif ((avg_kappa_score >= 0.41) and (avg_kappa_score <= 0.60)):\n",
        "    print(\"Moderate agreement\")\n",
        "\n",
        "elif ((avg_kappa_score >= 0.61) and (avg_kappa_score <= 0.80)):\n",
        "    print(\"Substantial agreement\")\n",
        "\n",
        "elif ((avg_kappa_score >= 0.81) and (avg_kappa_score <= 0.99)):\n",
        "    print(\"Almost perfect agreement\")"
      ],
      "metadata": {
        "colab": {
          "base_uri": "https://localhost:8080/"
        },
        "id": "p37DDm48y5UR",
        "outputId": "c63ee659-86b4-4169-e660-33b824d226d8"
      },
      "execution_count": 10,
      "outputs": [
        {
          "output_type": "stream",
          "name": "stdout",
          "text": [
            "Cohen's kappa score is: 0.54\n",
            "Moderate agreement\n"
          ]
        }
      ]
    },
    {
      "cell_type": "code",
      "source": [
        "import krippendorff\n",
        "new_df = [list(df['encoder_Annotation1'].values),\n",
        "        list(df['encoder_Annotation2'].values),\n",
        "        list(df['encoder_Annotation3'].values)]\n",
        "\n",
        "f_score = krippendorff.alpha(new_df)\n",
        "print(\"Fleiss' kappa score is:\", round(f_score, 2))"
      ],
      "metadata": {
        "colab": {
          "base_uri": "https://localhost:8080/"
        },
        "id": "Rp89eEl9zdgQ",
        "outputId": "cbac2feb-b3ff-45d0-c1bb-fe25f99438f4"
      },
      "execution_count": 11,
      "outputs": [
        {
          "output_type": "stream",
          "name": "stdout",
          "text": [
            "Fleiss' kappa score is: 0.57\n"
          ]
        }
      ]
    }
  ],
  "metadata": {
    "kernelspec": {
      "display_name": "Python 3 (ipykernel)",
      "language": "python",
      "name": "python3"
    },
    "language_info": {
      "codemirror_mode": {
        "name": "ipython",
        "version": 3
      },
      "file_extension": ".py",
      "mimetype": "text/x-python",
      "name": "python",
      "nbconvert_exporter": "python",
      "pygments_lexer": "ipython3",
      "version": "3.9.12"
    },
    "colab": {
      "name": "lab_assignment_08-1.ipynb",
      "provenance": [],
      "include_colab_link": true
    }
  },
  "nbformat": 4,
  "nbformat_minor": 0
}